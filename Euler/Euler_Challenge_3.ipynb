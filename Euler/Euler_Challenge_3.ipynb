{
 "cells": [
  {
   "cell_type": "markdown",
   "metadata": {},
   "source": [
    "#Euler Challenge #3"
   ]
  },
  {
   "cell_type": "markdown",
   "metadata": {},
   "source": [
    "*The prime factors of 13195 are 5, 7, 13 and 29.*\n",
    "\n",
    "*What is the largest prime factor of the number 600851475143 ?*"
   ]
  },
  {
   "cell_type": "markdown",
   "metadata": {},
   "source": [
    "**Définition** : la factorisation entière en nombres premiers consiste à chercher à écrire un entier naturel non nul sous forme d'un produit de nombres premiers. </br>\n",
    "Notre challenge ici consiste donc à trouver le plus grand facteur de 600851475143 qui soit nombre premier. \n",
    "\n",
    "Formalisons le problème. Il faut :\n",
    "\n",
    "1. Pouvoir déterminer si un nombre est premier : s'il est divisible par un autre nombre, alors il n'est pas premier.\n",
    "1. Trouver tous les facteurs premiers de 600851475143.\n",
    "1. Sélectionner seulement le facteur le plus grand."
   ]
  },
  {
   "cell_type": "markdown",
   "metadata": {},
   "source": [
    "## Solution longue\n",
    "\n",
    "Une première solution pourrait être de créer une fonction permettant de savoir si un nombre est premier ou non, puis d'utiliser cette fonction afin de trouver les facteurs premiers du nombre choisi (tester avec 13195 au début)."
   ]
  },
  {
   "cell_type": "code",
   "execution_count": null,
   "metadata": {
    "collapsed": true
   },
   "outputs": [],
   "source": [
    "def is_prime(n):\n",
    "    return pass # Votre code ici\n",
    "\n",
    "def prime_factors(N):\n",
    "    return pass # Votre code ici"
   ]
  },
  {
   "cell_type": "code",
   "execution_count": null,
   "metadata": {
    "collapsed": true
   },
   "outputs": [],
   "source": [
    "import time\n",
    "\n",
    "n = 13195\n",
    "#n = 600851475143 \n",
    "\n",
    "start = time.time()\n",
    "prime_factors(n)\n",
    "diff = (time.time() - start)\n",
    "print \"prime factor slow : \", diff"
   ]
  },
  {
   "cell_type": "markdown",
   "metadata": {},
   "source": [
    "## Solution rapide"
   ]
  },
  {
   "cell_type": "markdown",
   "metadata": {},
   "source": [
    "Cherchons maintenant une solution qui soit plus efficace. Astuce : évitez d'utiliser des boucles `for`..."
   ]
  },
  {
   "cell_type": "code",
   "execution_count": null,
   "metadata": {
    "collapsed": false
   },
   "outputs": [],
   "source": [
    "def prime_factors_fast(n):\n",
    "    return pass # Votre code ici"
   ]
  },
  {
   "cell_type": "code",
   "execution_count": null,
   "metadata": {
    "collapsed": true
   },
   "outputs": [],
   "source": [
    "n = 13195\n",
    "#n = 600851475143 \n",
    "\n",
    "start = time.time()\n",
    "prime_factors_fast(n)\n",
    "diff = (time.time() - start)\n",
    "print \"prime factor slow : \", diff"
   ]
  },
  {
   "cell_type": "markdown",
   "metadata": {},
   "source": [
    "## Tests unitaires"
   ]
  },
  {
   "cell_type": "code",
   "execution_count": null,
   "metadata": {
    "collapsed": false
   },
   "outputs": [],
   "source": [
    "assert prime_factors(13195) == [5, 7, 13, 29]\n",
    "\n",
    "assert max(prime_factors(13195)) == 29\n",
    "assert max(prime_factors(600851475143)) == 6857\n",
    "\n",
    "assert max(prime_factors_fast(13195)) == 29\n",
    "assert max(prime_factors_fast(600851475143)) == 6857"
   ]
  },
  {
   "cell_type": "markdown",
   "metadata": {},
   "source": [
    "Rappel : si aucun message n'est indiqué après avoir utilié `assert`, alors nos fonctions retournent bien ce qui était prévu !"
   ]
  },
  {
   "cell_type": "markdown",
   "metadata": {},
   "source": [
    "## Comparaison"
   ]
  },
  {
   "cell_type": "code",
   "execution_count": null,
   "metadata": {
    "collapsed": false
   },
   "outputs": [],
   "source": [
    "import time\n",
    "\n",
    "#n = 125\n",
    "#n = 13195\n",
    "n = 600851475143 \n",
    "\n",
    "start = time.time()\n",
    "prime_factors(n)\n",
    "diff = (time.time() - start)\n",
    "print \"prime factor slow : \", diff\n",
    "\n",
    "start = time.time()\n",
    "prime_factors_fast(n)\n",
    "diff = (time.time() - start)\n",
    "print \"prime factor fast : \", diff"
   ]
  },
  {
   "cell_type": "markdown",
   "metadata": {
    "collapsed": true
   },
   "source": [
    "## Module pyprimes"
   ]
  },
  {
   "cell_type": "markdown",
   "metadata": {},
   "source": [
    "Pour aller plus loin : le module  `pyprimes` (https://pypi.python.org/pypi/pyprimes/).\n",
    "\n",
    "=> *The pyprimes package offers a variety of algorithms for generating prime numbers and fast primality tests, written in pure Python.*"
   ]
  }
 ],
 "metadata": {
  "kernelspec": {
   "display_name": "Python 2",
   "language": "python",
   "name": "python2"
  },
  "language_info": {
   "codemirror_mode": {
    "name": "ipython",
    "version": 2
   },
   "file_extension": ".py",
   "mimetype": "text/x-python",
   "name": "python",
   "nbconvert_exporter": "python",
   "pygments_lexer": "ipython2",
   "version": "2.7.10"
  }
 },
 "nbformat": 4,
 "nbformat_minor": 0
}
