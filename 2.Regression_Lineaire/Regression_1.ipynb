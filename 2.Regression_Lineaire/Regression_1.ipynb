{
 "cells": [
  {
   "cell_type": "markdown",
   "metadata": {},
   "source": [
    "#Ajustement de modèles et régression linéaire"
   ]
  },
  {
   "cell_type": "markdown",
   "metadata": {},
   "source": [
    "De façon générale, les données en sciences servent au moins 2 objectifs :\n",
    "\n",
    "1. Valider des modèles théoriques, et véridier leur adéquation avec des mesures expérimentales.\n",
    "1. Analyser des mesures complexes, et essayer d'en tirer des relations, des correlations etc, et les utiliser pour inférer et prédire de nouvelles choses.\n",
    "\n",
    "Le sujet est particulièrement vaste, et nous n'avons pas le temps de rentrer dans toutes les subtilités théoriques et pratiques.\n",
    "\n",
    "Nous allons plutôt illustrer quelques principes fondamentaux à l'aide de nos nouvelles connaissances en Python. La régression linéaire est l'exemple royal pour cet exercice, et nous permettra de nous familiariser avec de nombreux sujets, sans être noyés par la complexité du modèle, qui reste l'un des plus simple.\n",
    "\n",
    "**De nombreux rappels mathématiques et statistiques** seront faits durant les prochaines séances. N'hésitez pas cependant à aller vous-mêmes vous rafraichir la mémoire, et à explorer de nouveaux concepts connexes."
   ]
  },
  {
   "cell_type": "markdown",
   "metadata": {},
   "source": [
    "## Modèle linéaire\n",
    "\n",
    "$$y \\sim f_{\\theta}(x)$$\n",
    "\n",
    "avec comme fonction f une forme linéaire\n",
    "\n",
    "$$f_{\\theta}(x) = \\theta_0 + \\theta_1 x +\\epsilon $$\n",
    "\n",
    "\n",
    "On introduit $\\epsilon$ un terme d'erreur qui prend en compte la nature probabiliste des données, et leur déviation du modèle idéal.\n",
    "\n",
    "\n",
    "### Hypothèses du modèle linéaire\n",
    "\n",
    "* les erreurs suivent une loi normale de moyenne nulle\n",
    "* la variance est la même pour tous (homoscédasticité) : la variance est la même pour l'ensemble des termes d'erreures gaussiens\n",
    "$Var(\\epsilon_i)=\\sigma$\n",
    "* les termes d'erreurs pour les différents $x_i$ sont indépendants les uns des autres\n",
    "\n",
    "\n",
    "### Pourquoi régression ?\n",
    "\n",
    "<img src='img/Galton-height-regress.png'>\n",
    "\n"
   ]
  },
  {
   "cell_type": "markdown",
   "metadata": {},
   "source": [
    "## Simulation de données\n",
    "\n",
    "Nous allons commencer par générer une distribution de points au voisinge d'une droite, afin de contrôler"
   ]
  },
  {
   "cell_type": "code",
   "execution_count": null,
   "metadata": {
    "collapsed": false
   },
   "outputs": [],
   "source": [
    "from random import random\n",
    "import numpy as np\n",
    "import matplotlib.pyplot as plt\n",
    "%matplotlib inline"
   ]
  },
  {
   "cell_type": "markdown",
   "metadata": {},
   "source": [
    "Commençons par définir un vecteur X qui est notre variable indépendante, variant entre 0 et 10, nous pouvons procéder de différentes façons\n",
    "1. Avec une boucle\n",
    "1. Avec une list comprehension\n",
    "1. En utilisant le module numpy"
   ]
  },
  {
   "cell_type": "markdown",
   "metadata": {},
   "source": [
    "**A vous de jouer**"
   ]
  },
  {
   "cell_type": "code",
   "execution_count": null,
   "metadata": {
    "collapsed": false
   },
   "outputs": [],
   "source": [
    "# Votre code ici pour le cas 1"
   ]
  },
  {
   "cell_type": "code",
   "execution_count": null,
   "metadata": {
    "collapsed": false
   },
   "outputs": [],
   "source": [
    "# Votre code ici pour le cas 2"
   ]
  },
  {
   "cell_type": "code",
   "execution_count": null,
   "metadata": {
    "collapsed": false
   },
   "outputs": [],
   "source": [
    "# Votre code ici pour le cas 3"
   ]
  },
  {
   "cell_type": "markdown",
   "metadata": {},
   "source": [
    "###Visualisation de données avec matplotlib. \n",
    "\n",
    "Nous allons générer les ordonnées avec l'équation d'une droite."
   ]
  },
  {
   "cell_type": "code",
   "execution_count": null,
   "metadata": {
    "collapsed": false
   },
   "outputs": [],
   "source": [
    "plt.scatter(x, 3*x+2) #/!\\ 3*x fonctionne parce que x est un numpy array\n",
    "plt.show()"
   ]
  },
  {
   "cell_type": "code",
   "execution_count": null,
   "metadata": {
    "collapsed": false
   },
   "outputs": [],
   "source": [
    "plt.scatter([1,2,3], 2*[1,2,3]) #que va-t-il se passer avec une liste python standard ?\n",
    "plt.show()"
   ]
  },
  {
   "cell_type": "code",
   "execution_count": null,
   "metadata": {
    "collapsed": false
   },
   "outputs": [],
   "source": [
    "plt.scatter(np.array([1,2,3]), 2*np.array([1,2,3]))\n",
    "plt.show()"
   ]
  },
  {
   "cell_type": "markdown",
   "metadata": {},
   "source": [
    "Nous allons maintenant ajouter un bruit gaussien"
   ]
  },
  {
   "cell_type": "markdown",
   "metadata": {},
   "source": [
    "Densité de probabilité gaussienne/normale :  \n",
    "$$p(x) = \\frac{1}{\\sqrt{2 \\pi \\sigma^2}}e^{-\\frac{(x-\\mu)^2}{2 \\sigma^2}}$$\n",
    "\n",
    "Nous pouvons échantiller depuis une loi normale avec la fonction `normalvariate` du module `random` standard, ou utiliser encore une fois `numpy`"
   ]
  },
  {
   "cell_type": "code",
   "execution_count": null,
   "metadata": {
    "collapsed": false
   },
   "outputs": [],
   "source": [
    "from random import normalvariate\n",
    "y_normal = [normalvariate(0,1) for i in range(10000)] #list comprehension pour boucler et générer une liste\n",
    "plt.hist(y_normal, bins=50, normed=True)\n",
    "plt.show()"
   ]
  },
  {
   "cell_type": "markdown",
   "metadata": {},
   "source": [
    "`normalvariate` génère une valeur à chaque fois (théoriquement entre $-\\infty$ et $+\\infty$). La probabilité que cette valeur soit dans un certain intervalle est donnée par $Pr(x_1<x<x_2) = \\int_{x_1}^{x_2} p(x).dx $\n",
    "\n",
    "<img src=\"img/Standard_deviation_diagram.svg.png\">"
   ]
  },
  {
   "cell_type": "markdown",
   "metadata": {},
   "source": [
    "Refaisons le même exercice avec `numpy`"
   ]
  },
  {
   "cell_type": "code",
   "execution_count": null,
   "metadata": {
    "collapsed": false
   },
   "outputs": [],
   "source": [
    "# Votre code ici"
   ]
  },
  {
   "cell_type": "code",
   "execution_count": null,
   "metadata": {
    "collapsed": true
   },
   "outputs": [],
   "source": [
    "def linear(x, params=(0,1)):\n",
    "    \"\"\"Generate a linear function f(x)=a*x+b+N(0,1)\n",
    "    \n",
    "    Args:\n",
    "        x (numpy.array()) : vector used to generate the output\n",
    "        params (tuple of size 2) : b=params[0] and a=params[1]\n",
    "    \n",
    "    Returns:\n",
    "        numpy.array()\n",
    "    \"\"\"\n",
    "    # votre code ici"
   ]
  },
  {
   "cell_type": "code",
   "execution_count": null,
   "metadata": {
    "collapsed": false
   },
   "outputs": [],
   "source": [
    "help(linear)"
   ]
  },
  {
   "cell_type": "code",
   "execution_count": null,
   "metadata": {
    "collapsed": false
   },
   "outputs": [],
   "source": [
    "plt.scatter(x, linear(x))\n",
    "plt.show()"
   ]
  },
  {
   "cell_type": "markdown",
   "metadata": {},
   "source": [
    "## Inférence\n",
    "\n",
    "Le but de l'exercice maintenant est d'aller dans l'autre sens, et de trouver une droite qui modélise nos données, soit parce que nous savons que c'est une loi linéaire (exemple en physique où cherche à valider des modèles mathématiques), soit pour faire de l'analyse statistique et trouver une loi qui nous permet de mieux comprendre des données issues du monde réel."
   ]
  },
  {
   "cell_type": "markdown",
   "metadata": {},
   "source": [
    "Comment fixer nos paramètres ?  \n",
    "Quelle droite décrit le mieux nos données ?\n",
    "\n",
    "La suite au prochain épisode ..."
   ]
  },
  {
   "cell_type": "code",
   "execution_count": null,
   "metadata": {
    "collapsed": false
   },
   "outputs": [],
   "source": [
    "plt.scatter(x, linear(x))\n",
    "plt.plot(x, 1*x, 'red')\n",
    "plt.plot(x, 1.2*x-0.8, 'blue')\n",
    "plt.plot(x, 0.8*x+0.8, 'green')"
   ]
  }
 ],
 "metadata": {
  "kernelspec": {
   "display_name": "Python 2",
   "language": "python",
   "name": "python2"
  },
  "language_info": {
   "codemirror_mode": {
    "name": "ipython",
    "version": 2
   },
   "file_extension": ".py",
   "mimetype": "text/x-python",
   "name": "python",
   "nbconvert_exporter": "python",
   "pygments_lexer": "ipython2",
   "version": "2.7.10"
  }
 },
 "nbformat": 4,
 "nbformat_minor": 0
}
